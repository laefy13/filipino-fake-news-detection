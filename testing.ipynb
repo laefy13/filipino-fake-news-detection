{
 "cells": [
  {
   "cell_type": "code",
   "execution_count": 4,
   "id": "eb4b3baf",
   "metadata": {},
   "outputs": [],
   "source": [
    "import pandas as pd\n",
    "import LEX\n",
    "from sklearn.feature_extraction.text import TfidfVectorizer\n",
    "import nltk\n",
    "import numpy as np\n",
    "from numpy.linalg import norm\n",
    "from scipy import spatial\n",
    "from sklearn.metrics.pairwise import cosine_similarity\n",
    "import functions\n",
    "\n",
    "pd.options.mode.chained_assignment = None  # default='warn'"
   ]
  },
  {
   "cell_type": "markdown",
   "id": "50becaed",
   "metadata": {},
   "source": [
    "# FEATURES:"
   ]
  },
  {
   "cell_type": "markdown",
   "id": "e44b53ef",
   "metadata": {},
   "source": [
    "COSINE SIMILARITY OF TF IDF VECTORS OF HEADLINE ARTICLE\n",
    "\n",
    "NO OF REACTS, NO. OF COMMENTS, NO. OF SHARES\n",
    "\n",
    "INFORMALITY (NO. OF SWEAR WORDS, NETSPEAK, ETC.) (PROBABLY HAVE TO MAKE FOR THE FILIPINO ONE)\n",
    "\n",
    "DIVERSITY (NO. OF UNIQUE WORDS, NOUNS, VERBS, ETC.) \n",
    "\n",
    "SUBJECTIVITY (NO. OF REPORT VERBS) (HAVE TO MAKE ONE, JUST TRANSALTE THE LIST OF REPORT VERBS AND MAKE CONTER OF THAT)\n",
    "\n",
    "SENTIMENET (NO. OF EMOTIONAL WORDS) (MAKE ONE)\n",
    "\n",
    "LENGTH OF SENTENCES (NO OF WORDS PER SENTENCE)\n",
    "\n",
    "NUMBER OF CHAR PER WORD "
   ]
  },
  {
   "cell_type": "raw",
   "id": "c17fd0a2",
   "metadata": {},
   "source": [
    "TF-IDF/\n",
    "\n",
    "WITH THE WEB SCRAPER\n",
    "\n",
    "INPROGRRESS\n",
    "\n",
    "TYPE_TOKEN RATIO - (UNIQUE WORDS?)/\n",
    "N-TR - (NO OF NOUNS PER DOCU)/\n",
    "V-TR - (NO OF VERBS PER DOCU)/\n",
    "FOREIGNDENSE - (NO OF FOREIGN WORDS PER DOCU)(NOT MENTIONED, BUT COULD BE USED)(prolly not cuz taglish could trigger this)\n",
    "\n",
    "INPROGRESS\n",
    "\n",
    "INPROGRESS TOO \n",
    "\n",
    "WC (WORD PER DOCU, SO MAKE A FUNCTION THAT WILL SEPERATE SENTENCES) - (NO OF WORDS PER SENTENCE)/\n",
    "\n",
    "LEN() :skull: - (NO IF CHAR PER WORD)/"
   ]
  },
  {
   "cell_type": "code",
   "execution_count": 5,
   "id": "26daec35",
   "metadata": {},
   "outputs": [],
   "source": [
    "df = pd.read_excel(\"D:\\k//thesis//dataset//sample.xlsx\")"
   ]
  },
  {
   "cell_type": "code",
   "execution_count": 6,
   "id": "b93d04e3",
   "metadata": {},
   "outputs": [
    {
     "data": {
      "text/html": [
       "<div>\n",
       "<style scoped>\n",
       "    .dataframe tbody tr th:only-of-type {\n",
       "        vertical-align: middle;\n",
       "    }\n",
       "\n",
       "    .dataframe tbody tr th {\n",
       "        vertical-align: top;\n",
       "    }\n",
       "\n",
       "    .dataframe thead th {\n",
       "        text-align: right;\n",
       "    }\n",
       "</style>\n",
       "<table border=\"1\" class=\"dataframe\">\n",
       "  <thead>\n",
       "    <tr style=\"text-align: right;\">\n",
       "      <th></th>\n",
       "      <th>Label</th>\n",
       "      <th>Headline</th>\n",
       "      <th>Article</th>\n",
       "      <th>Source</th>\n",
       "      <th>Reactions</th>\n",
       "      <th>Comments</th>\n",
       "      <th>Shares</th>\n",
       "      <th>English</th>\n",
       "      <th>Tagalog</th>\n",
       "      <th>Taglish</th>\n",
       "    </tr>\n",
       "  </thead>\n",
       "  <tbody>\n",
       "    <tr>\n",
       "      <th>0</th>\n",
       "      <td>1</td>\n",
       "      <td>‘Lalaking nagbebenta umano ng expired na pagka...</td>\n",
       "      <td>Arestado ang isang lalaki na naaktuhang nagbeb...</td>\n",
       "      <td>facebook.com/cltv36official/posts/286691113723079</td>\n",
       "      <td>35</td>\n",
       "      <td>4</td>\n",
       "      <td>21</td>\n",
       "      <td>0</td>\n",
       "      <td>1</td>\n",
       "      <td>0</td>\n",
       "    </tr>\n",
       "    <tr>\n",
       "      <th>1</th>\n",
       "      <td>1</td>\n",
       "      <td>INABANDONANG SUGATANG NPA, TINULUNGAN NG MGA K...</td>\n",
       "      <td>Isang pagpapatunay na ang ating mga kasundaluh...</td>\n",
       "      <td>facebook.com/permalink.php?story_fbid=65439452...</td>\n",
       "      <td>6</td>\n",
       "      <td>0</td>\n",
       "      <td>0</td>\n",
       "      <td>0</td>\n",
       "      <td>1</td>\n",
       "      <td>0</td>\n",
       "    </tr>\n",
       "    <tr>\n",
       "      <th>2</th>\n",
       "      <td>1</td>\n",
       "      <td>Amid pandemic, attacks on land rights and live...</td>\n",
       "      <td>Manila, Philippines - The National Federation ...</td>\n",
       "      <td>facebook.com/amihanwomen/posts/1698314000326158</td>\n",
       "      <td>3000</td>\n",
       "      <td>292</td>\n",
       "      <td>3400</td>\n",
       "      <td>1</td>\n",
       "      <td>0</td>\n",
       "      <td>0</td>\n",
       "    </tr>\n",
       "    <tr>\n",
       "      <th>3</th>\n",
       "      <td>0</td>\n",
       "      <td>China-backed troll network minamanipula ang op...</td>\n",
       "      <td>Matatandaan na pinaigting ng Facebook ang kani...</td>\n",
       "      <td>facebook.com/FactCheckPhils/posts/353233903685...</td>\n",
       "      <td>3000</td>\n",
       "      <td>315</td>\n",
       "      <td>2700</td>\n",
       "      <td>0</td>\n",
       "      <td>1</td>\n",
       "      <td>0</td>\n",
       "    </tr>\n",
       "    <tr>\n",
       "      <th>4</th>\n",
       "      <td>0</td>\n",
       "      <td>‘Local artists at musicians, nagpalaya ng damd...</td>\n",
       "      <td>Ináua o breath — ito ang naging tema ng intera...</td>\n",
       "      <td>facebook.com/cltv36news/posts/295249866181290</td>\n",
       "      <td>30</td>\n",
       "      <td>5</td>\n",
       "      <td>35</td>\n",
       "      <td>0</td>\n",
       "      <td>1</td>\n",
       "      <td>0</td>\n",
       "    </tr>\n",
       "  </tbody>\n",
       "</table>\n",
       "</div>"
      ],
      "text/plain": [
       "   Label                                           Headline  \\\n",
       "0      1  ‘Lalaking nagbebenta umano ng expired na pagka...   \n",
       "1      1  INABANDONANG SUGATANG NPA, TINULUNGAN NG MGA K...   \n",
       "2      1  Amid pandemic, attacks on land rights and live...   \n",
       "3      0  China-backed troll network minamanipula ang op...   \n",
       "4      0  ‘Local artists at musicians, nagpalaya ng damd...   \n",
       "\n",
       "                                             Article  \\\n",
       "0  Arestado ang isang lalaki na naaktuhang nagbeb...   \n",
       "1  Isang pagpapatunay na ang ating mga kasundaluh...   \n",
       "2  Manila, Philippines - The National Federation ...   \n",
       "3  Matatandaan na pinaigting ng Facebook ang kani...   \n",
       "4  Ináua o breath — ito ang naging tema ng intera...   \n",
       "\n",
       "                                              Source  Reactions  Comments  \\\n",
       "0  facebook.com/cltv36official/posts/286691113723079         35         4   \n",
       "1  facebook.com/permalink.php?story_fbid=65439452...          6         0   \n",
       "2    facebook.com/amihanwomen/posts/1698314000326158       3000       292   \n",
       "3  facebook.com/FactCheckPhils/posts/353233903685...       3000       315   \n",
       "4      facebook.com/cltv36news/posts/295249866181290         30         5   \n",
       "\n",
       "   Shares  English  Tagalog  Taglish  \n",
       "0      21        0        1        0  \n",
       "1       0        0        1        0  \n",
       "2    3400        1        0        0  \n",
       "3    2700        0        1        0  \n",
       "4      35        0        1        0  "
      ]
     },
     "execution_count": 6,
     "metadata": {},
     "output_type": "execute_result"
    }
   ],
   "source": [
    "df"
   ]
  },
  {
   "cell_type": "code",
   "execution_count": 7,
   "id": "03748db6",
   "metadata": {},
   "outputs": [],
   "source": [
    "df_t = df.loc[df['Tagalog']==1]"
   ]
  },
  {
   "cell_type": "code",
   "execution_count": 8,
   "id": "209ed786",
   "metadata": {},
   "outputs": [],
   "source": [
    "df_e = df.loc[df['English']==1]"
   ]
  },
  {
   "cell_type": "code",
   "execution_count": null,
   "id": "a0d3caef",
   "metadata": {},
   "outputs": [],
   "source": []
  },
  {
   "cell_type": "code",
   "execution_count": 9,
   "id": "bb4c5631",
   "metadata": {},
   "outputs": [],
   "source": [
    "df_t['Cosine']=df_t.apply(lambda x: functions.getcosine(df_t['Headline'].values[0],df_t['Article'].values[0]), axis = 1)"
   ]
  },
  {
   "cell_type": "code",
   "execution_count": 10,
   "id": "a135435f",
   "metadata": {},
   "outputs": [],
   "source": [
    "df_t['N_TR'] = df_t['Article'].apply(LEX.noun_token_ratio)"
   ]
  },
  {
   "cell_type": "code",
   "execution_count": 11,
   "id": "4d91da30",
   "metadata": {},
   "outputs": [],
   "source": [
    "df_t['V_TR'] = df_t['Article'].apply(LEX.verb_token_ratio)"
   ]
  },
  {
   "cell_type": "code",
   "execution_count": 12,
   "id": "a7f52eaa",
   "metadata": {},
   "outputs": [],
   "source": [
    "df_t['TTR'] = df_t['Article'].apply(LEX.type_token_ratio)"
   ]
  },
  {
   "cell_type": "code",
   "execution_count": 13,
   "id": "12225cb9",
   "metadata": {},
   "outputs": [],
   "source": [
    "df_t['word_per_sen'] = df_t['Article'].apply(functions.wordpsen)"
   ]
  },
  {
   "cell_type": "code",
   "execution_count": 14,
   "id": "306f14d4",
   "metadata": {},
   "outputs": [],
   "source": [
    "df_t['char_per_word'] = df_t['Article'].apply(functions.charpword)"
   ]
  },
  {
   "cell_type": "code",
   "execution_count": 15,
   "id": "a24669cc",
   "metadata": {},
   "outputs": [
    {
     "data": {
      "text/html": [
       "<div>\n",
       "<style scoped>\n",
       "    .dataframe tbody tr th:only-of-type {\n",
       "        vertical-align: middle;\n",
       "    }\n",
       "\n",
       "    .dataframe tbody tr th {\n",
       "        vertical-align: top;\n",
       "    }\n",
       "\n",
       "    .dataframe thead th {\n",
       "        text-align: right;\n",
       "    }\n",
       "</style>\n",
       "<table border=\"1\" class=\"dataframe\">\n",
       "  <thead>\n",
       "    <tr style=\"text-align: right;\">\n",
       "      <th></th>\n",
       "      <th>Label</th>\n",
       "      <th>Headline</th>\n",
       "      <th>Article</th>\n",
       "      <th>Source</th>\n",
       "      <th>Reactions</th>\n",
       "      <th>Comments</th>\n",
       "      <th>Shares</th>\n",
       "      <th>English</th>\n",
       "      <th>Tagalog</th>\n",
       "      <th>Taglish</th>\n",
       "      <th>Cosine</th>\n",
       "      <th>N_TR</th>\n",
       "      <th>V_TR</th>\n",
       "      <th>TTR</th>\n",
       "      <th>word_per_sen</th>\n",
       "      <th>char_per_word</th>\n",
       "    </tr>\n",
       "  </thead>\n",
       "  <tbody>\n",
       "    <tr>\n",
       "      <th>0</th>\n",
       "      <td>1</td>\n",
       "      <td>‘Lalaking nagbebenta umano ng expired na pagka...</td>\n",
       "      <td>Arestado ang isang lalaki na naaktuhang nagbeb...</td>\n",
       "      <td>facebook.com/cltv36official/posts/286691113723079</td>\n",
       "      <td>35</td>\n",
       "      <td>4</td>\n",
       "      <td>21</td>\n",
       "      <td>0</td>\n",
       "      <td>1</td>\n",
       "      <td>0</td>\n",
       "      <td>0.0</td>\n",
       "      <td>0.223881</td>\n",
       "      <td>0.097015</td>\n",
       "      <td>0.179104</td>\n",
       "      <td>20.375000</td>\n",
       "      <td>4.607362</td>\n",
       "    </tr>\n",
       "    <tr>\n",
       "      <th>1</th>\n",
       "      <td>1</td>\n",
       "      <td>INABANDONANG SUGATANG NPA, TINULUNGAN NG MGA K...</td>\n",
       "      <td>Isang pagpapatunay na ang ating mga kasundaluh...</td>\n",
       "      <td>facebook.com/permalink.php?story_fbid=65439452...</td>\n",
       "      <td>6</td>\n",
       "      <td>0</td>\n",
       "      <td>0</td>\n",
       "      <td>0</td>\n",
       "      <td>1</td>\n",
       "      <td>0</td>\n",
       "      <td>0.0</td>\n",
       "      <td>0.316206</td>\n",
       "      <td>0.086957</td>\n",
       "      <td>0.079051</td>\n",
       "      <td>34.625000</td>\n",
       "      <td>4.951264</td>\n",
       "    </tr>\n",
       "    <tr>\n",
       "      <th>3</th>\n",
       "      <td>0</td>\n",
       "      <td>China-backed troll network minamanipula ang op...</td>\n",
       "      <td>Matatandaan na pinaigting ng Facebook ang kani...</td>\n",
       "      <td>facebook.com/FactCheckPhils/posts/353233903685...</td>\n",
       "      <td>3000</td>\n",
       "      <td>315</td>\n",
       "      <td>2700</td>\n",
       "      <td>0</td>\n",
       "      <td>1</td>\n",
       "      <td>0</td>\n",
       "      <td>0.0</td>\n",
       "      <td>0.205882</td>\n",
       "      <td>0.102941</td>\n",
       "      <td>0.137255</td>\n",
       "      <td>32.142857</td>\n",
       "      <td>5.280000</td>\n",
       "    </tr>\n",
       "    <tr>\n",
       "      <th>4</th>\n",
       "      <td>0</td>\n",
       "      <td>‘Local artists at musicians, nagpalaya ng damd...</td>\n",
       "      <td>Ináua o breath — ito ang naging tema ng intera...</td>\n",
       "      <td>facebook.com/cltv36news/posts/295249866181290</td>\n",
       "      <td>30</td>\n",
       "      <td>5</td>\n",
       "      <td>35</td>\n",
       "      <td>0</td>\n",
       "      <td>1</td>\n",
       "      <td>0</td>\n",
       "      <td>0.0</td>\n",
       "      <td>0.313808</td>\n",
       "      <td>0.066946</td>\n",
       "      <td>0.117155</td>\n",
       "      <td>20.230769</td>\n",
       "      <td>4.942966</td>\n",
       "    </tr>\n",
       "  </tbody>\n",
       "</table>\n",
       "</div>"
      ],
      "text/plain": [
       "   Label                                           Headline  \\\n",
       "0      1  ‘Lalaking nagbebenta umano ng expired na pagka...   \n",
       "1      1  INABANDONANG SUGATANG NPA, TINULUNGAN NG MGA K...   \n",
       "3      0  China-backed troll network minamanipula ang op...   \n",
       "4      0  ‘Local artists at musicians, nagpalaya ng damd...   \n",
       "\n",
       "                                             Article  \\\n",
       "0  Arestado ang isang lalaki na naaktuhang nagbeb...   \n",
       "1  Isang pagpapatunay na ang ating mga kasundaluh...   \n",
       "3  Matatandaan na pinaigting ng Facebook ang kani...   \n",
       "4  Ináua o breath — ito ang naging tema ng intera...   \n",
       "\n",
       "                                              Source  Reactions  Comments  \\\n",
       "0  facebook.com/cltv36official/posts/286691113723079         35         4   \n",
       "1  facebook.com/permalink.php?story_fbid=65439452...          6         0   \n",
       "3  facebook.com/FactCheckPhils/posts/353233903685...       3000       315   \n",
       "4      facebook.com/cltv36news/posts/295249866181290         30         5   \n",
       "\n",
       "   Shares  English  Tagalog  Taglish  Cosine      N_TR      V_TR       TTR  \\\n",
       "0      21        0        1        0     0.0  0.223881  0.097015  0.179104   \n",
       "1       0        0        1        0     0.0  0.316206  0.086957  0.079051   \n",
       "3    2700        0        1        0     0.0  0.205882  0.102941  0.137255   \n",
       "4      35        0        1        0     0.0  0.313808  0.066946  0.117155   \n",
       "\n",
       "   word_per_sen  char_per_word  \n",
       "0     20.375000       4.607362  \n",
       "1     34.625000       4.951264  \n",
       "3     32.142857       5.280000  \n",
       "4     20.230769       4.942966  "
      ]
     },
     "execution_count": 15,
     "metadata": {},
     "output_type": "execute_result"
    }
   ],
   "source": [
    "df_t"
   ]
  },
  {
   "cell_type": "code",
   "execution_count": null,
   "id": "118bba46",
   "metadata": {},
   "outputs": [],
   "source": [
    "df_t"
   ]
  },
  {
   "cell_type": "markdown",
   "id": "706d95f0",
   "metadata": {},
   "source": [
    "# ah hell nah tf-idf"
   ]
  },
  {
   "cell_type": "code",
   "execution_count": 55,
   "id": "ad4af781",
   "metadata": {},
   "outputs": [],
   "source": [
    "art = df_t.loc[df_t.index==0]['Article'].values[0]\n",
    "head = df_t.loc[df_t.index==0]['Headline'].values[0]"
   ]
  },
  {
   "cell_type": "code",
   "execution_count": 56,
   "id": "49f8169e",
   "metadata": {},
   "outputs": [],
   "source": [
    "art_tokens = nltk.tokenize.word_tokenize(art)\n",
    "head_tokens = nltk.tokenize.word_tokenize(head)"
   ]
  },
  {
   "cell_type": "code",
   "execution_count": 65,
   "id": "019d01a6",
   "metadata": {},
   "outputs": [],
   "source": [
    "un_tokens = set(art_tokens).union(set(head_tokens))"
   ]
  },
  {
   "cell_type": "code",
   "execution_count": 66,
   "id": "3889d05b",
   "metadata": {},
   "outputs": [],
   "source": [
    "num_art_words = dict.fromkeys(un_tokens,0)\n",
    "for word in art_tokens:\n",
    "#     print(word)\n",
    "    num_art_words[word] += 1\n",
    "num_head_words = dict.fromkeys(un_tokens,0)\n",
    "for word in head_tokens:\n",
    "#     print(word)\n",
    "    num_head_words[word] += 1"
   ]
  },
  {
   "cell_type": "code",
   "execution_count": 67,
   "id": "189f5dbe",
   "metadata": {},
   "outputs": [],
   "source": [
    "def computeTF(wordDict, bagOfWords):\n",
    "    tfDict = {}\n",
    "    bagOfWordsCount = len(bagOfWords)\n",
    "    for word, count in wordDict.items():\n",
    "        tfDict[word] = count / float(bagOfWordsCount)\n",
    "    return tfDict"
   ]
  },
  {
   "cell_type": "code",
   "execution_count": 68,
   "id": "223d703d",
   "metadata": {},
   "outputs": [],
   "source": [
    "def computeIDF(documents):\n",
    "    import math\n",
    "    N = len(documents)\n",
    "    \n",
    "    idfDict = dict.fromkeys(documents[0].keys(), 0)\n",
    "    for document in documents:\n",
    "        for word, val in document.items():\n",
    "            if val > 0:\n",
    "                idfDict[word] += 1\n",
    "    \n",
    "    for word, val in idfDict.items():\n",
    "        idfDict[word] = math.log(N / float(val))\n",
    "    return idfDict"
   ]
  },
  {
   "cell_type": "code",
   "execution_count": 73,
   "id": "cff1a9d5",
   "metadata": {},
   "outputs": [],
   "source": [
    "def computeTFIDF(tfBagOfWords, idfs):\n",
    "    tfidf = {}\n",
    "    for word, val in tfBagOfWords.items():\n",
    "        tfidf[word] = val * idfs[word]\n",
    "    return tfidf"
   ]
  },
  {
   "cell_type": "code",
   "execution_count": 75,
   "id": "c5ee85a8",
   "metadata": {},
   "outputs": [],
   "source": [
    "tf_art = computeTF(num_art_words, art_tokens)\n",
    "tf_head = computeTF(num_head_words, head_tokens)"
   ]
  },
  {
   "cell_type": "code",
   "execution_count": 70,
   "id": "1329d29f",
   "metadata": {},
   "outputs": [],
   "source": [
    "idf = computeIDF([num_art_words,num_head_words])"
   ]
  },
  {
   "cell_type": "code",
   "execution_count": 76,
   "id": "53d83add",
   "metadata": {},
   "outputs": [],
   "source": [
    "tfidf_art = computeTFIDF(tf_art, idf)\n",
    "tfidf_head = computeTFIDF(tf_head, idf)"
   ]
  },
  {
   "cell_type": "markdown",
   "id": "75dfbf8b",
   "metadata": {},
   "source": [
    "# cosine similarity"
   ]
  },
  {
   "cell_type": "code",
   "execution_count": 109,
   "id": "175fb999",
   "metadata": {},
   "outputs": [],
   "source": [
    "art_vect = np.array([*tfidf_head.values()])\n",
    "head_vect = np.array([*tfidf_art.values()])"
   ]
  },
  {
   "cell_type": "code",
   "execution_count": 110,
   "id": "c5e758a4",
   "metadata": {},
   "outputs": [],
   "source": [
    "cosine = np.dot(head_vect,art_vect) / (norm(head_vect)*norm(art_vect))"
   ]
  },
  {
   "cell_type": "code",
   "execution_count": null,
   "id": "39d1115b",
   "metadata": {},
   "outputs": [],
   "source": []
  },
  {
   "cell_type": "code",
   "execution_count": 101,
   "id": "cce8cea3",
   "metadata": {},
   "outputs": [
    {
     "data": {
      "text/plain": [
       "1.0"
      ]
     },
     "execution_count": 101,
     "metadata": {},
     "output_type": "execute_result"
    }
   ],
   "source": [
    "# other way to get cosine\n",
    "# spatial.distance.cosine(head_vect,art_vect)\n",
    "\n",
    "# art_vect = art_vect.reshape(1,-1)\n",
    "# head_vect = head_vect.reshape(1,-1)\n",
    "\n",
    "# cosine_similarity(head_vect,art_vect)"
   ]
  },
  {
   "cell_type": "code",
   "execution_count": 96,
   "id": "e2e9d29f",
   "metadata": {},
   "outputs": [
    {
     "data": {
      "text/plain": [
       "0.0"
      ]
     },
     "execution_count": 96,
     "metadata": {},
     "output_type": "execute_result"
    }
   ],
   "source": [
    "cosine"
   ]
  },
  {
   "cell_type": "code",
   "execution_count": 1,
   "id": "17a40a5c",
   "metadata": {},
   "outputs": [],
   "source": [
    "import functions"
   ]
  },
  {
   "cell_type": "code",
   "execution_count": 2,
   "id": "be988196",
   "metadata": {},
   "outputs": [
    {
     "data": {
      "text/plain": [
       "<function functions.charpword(art)>"
      ]
     },
     "execution_count": 2,
     "metadata": {},
     "output_type": "execute_result"
    }
   ],
   "source": [
    "functions.charpword"
   ]
  },
  {
   "cell_type": "code",
   "execution_count": 174,
   "id": "e2153656",
   "metadata": {},
   "outputs": [
    {
     "ename": "AttributeError",
     "evalue": "module 'functions' has no attribute 'ordpsen'",
     "output_type": "error",
     "traceback": [
      "\u001b[1;31m---------------------------------------------------------------------------\u001b[0m",
      "\u001b[1;31mAttributeError\u001b[0m                            Traceback (most recent call last)",
      "Cell \u001b[1;32mIn[174], line 1\u001b[0m\n\u001b[1;32m----> 1\u001b[0m \u001b[43mfcts\u001b[49m\u001b[38;5;241;43m.\u001b[39;49m\u001b[43mordpsen\u001b[49m()\n",
      "\u001b[1;31mAttributeError\u001b[0m: module 'functions' has no attribute 'ordpsen'"
     ]
    }
   ],
   "source": [
    "fcts.ordpsen()"
   ]
  },
  {
   "cell_type": "code",
   "execution_count": 134,
   "id": "199dbd97",
   "metadata": {},
   "outputs": [
    {
     "data": {
      "text/plain": [
       "['Arestado ang isang lalaki na naaktuhang nagbebenta ng expired umanong mga pagkain sa Brgy.',\n",
       " 'Colgante, Apalit, Pampanga.',\n",
       " 'Isinagawa ang buy-bust operation nitong Martes, June 27.',\n",
       " 'Nasamsam mula sa suspek ang mga expired na produktong binebenta kagaya ng 4 na kahon ng imported chocolates, 4 na kahon ng local cheese, 21 kahon ng cup noodles, 25 pakete ng biscuits, 100 pakete ng powder juice, at 2 kahon na cheese spread.',\n",
       " 'Sa kabuuan, tinatayang nagkakahalaga ang mga ito ng ₱30,000.',\n",
       " 'Iniimbestigahan na ng pulisya ang pinanggalingan ng expired products at tugisin ang mastermind.',\n",
       " 'Lubha umanong mapanganib sa kalusugan ng mga tao ang ganitong uri ng pagkain kaya babala nila sa publiko na tingnan muna ang expiration date ng anumang produktong bibilhin lalo na kung ito ay inaalok lamang sa mga kalsada.',\n",
       " 'Samantala, sasampahan ang suspek ng kasong paglabag sa RA 7394 o Consumer Act of the Philippines.']"
      ]
     },
     "execution_count": 134,
     "metadata": {},
     "output_type": "execute_result"
    }
   ],
   "source": [
    "nltk.sent_tokenize(df_t.loc[df_t.index == 0]['Article'].values[0])"
   ]
  },
  {
   "cell_type": "code",
   "execution_count": 4,
   "id": "7da3e2e8",
   "metadata": {},
   "outputs": [],
   "source": [
    "test_art = df.loc[df.index == 5]"
   ]
  },
  {
   "cell_type": "code",
   "execution_count": 5,
   "id": "ae765439",
   "metadata": {},
   "outputs": [],
   "source": [
    "art_str = test_art['article'].values[0]"
   ]
  },
  {
   "cell_type": "code",
   "execution_count": 14,
   "id": "d9583e03",
   "metadata": {},
   "outputs": [
    {
     "name": "stderr",
     "output_type": "stream",
     "text": [
      "[nltk_data] Downloading package punkt to\n",
      "[nltk_data]     C:\\Users\\karlo\\AppData\\Roaming\\nltk_data...\n",
      "[nltk_data]   Unzipping tokenizers\\punkt.zip.\n"
     ]
    },
    {
     "data": {
      "text/plain": [
       "True"
      ]
     },
     "execution_count": 14,
     "metadata": {},
     "output_type": "execute_result"
    }
   ],
   "source": [
    "# import nltk\n",
    "# nltk.download('punkt')"
   ]
  },
  {
   "cell_type": "code",
   "execution_count": 15,
   "id": "150da66c",
   "metadata": {
    "scrolled": true
   },
   "outputs": [
    {
     "data": {
      "text/plain": [
       "0.4146341463414634"
      ]
     },
     "execution_count": 15,
     "metadata": {},
     "output_type": "execute_result"
    }
   ],
   "source": [
    "LEX.type_token_ratio(art_str)"
   ]
  }
 ],
 "metadata": {
  "kernelspec": {
   "display_name": "Python 3 (ipykernel)",
   "language": "python",
   "name": "python3"
  },
  "language_info": {
   "codemirror_mode": {
    "name": "ipython",
    "version": 3
   },
   "file_extension": ".py",
   "mimetype": "text/x-python",
   "name": "python",
   "nbconvert_exporter": "python",
   "pygments_lexer": "ipython3",
   "version": "3.9.13"
  }
 },
 "nbformat": 4,
 "nbformat_minor": 5
}
